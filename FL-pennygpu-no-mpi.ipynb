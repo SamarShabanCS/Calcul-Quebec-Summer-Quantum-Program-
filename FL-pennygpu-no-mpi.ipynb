{
 "cells": [
  {
   "cell_type": "code",
   "execution_count": 2,
   "id": "5f0a2b0a-2ee7-437b-924a-439b6c64527e",
   "metadata": {},
   "outputs": [],
   "source": [
    "import copy\n",
    "import torch\n",
    "import torch.nn as nn\n",
    "import torch.nn.functional as F\n",
    "import pennylane as qml\n",
    "from torch.utils.data import DataLoader, random_split\n",
    "\n",
    "import torchvision\n",
    "from torchvision import transforms, datasets\n",
    "from torchvision.transforms import ToTensor\n",
    "import torch.optim as optim\n",
    "from pennylane import numpy as np"
   ]
  },
  {
   "cell_type": "code",
   "execution_count": 9,
   "id": "6647f6ed-809e-4658-a200-8b152ab5e43e",
   "metadata": {},
   "outputs": [
    {
     "name": "stdout",
     "output_type": "stream",
     "text": [
      "cuda\n"
     ]
    }
   ],
   "source": [
    "use_cuda = torch.cuda.is_available()\n",
    "device = torch.device(\"cuda\" if use_cuda else \"cpu\")\n",
    "print(device)"
   ]
  },
  {
   "cell_type": "code",
   "execution_count": 11,
   "id": "e7429997-b630-42fe-b102-12d23bb77a75",
   "metadata": {},
   "outputs": [
    {
     "name": "stdout",
     "output_type": "stream",
     "text": [
      "dev:  <lightning.gpu device (wires=5) at 0x76eae2d93810>\n"
     ]
    }
   ],
   "source": [
    "#######################\n",
    "# Define the quantum circuit using PennyLane\n",
    "n_qubits = 5\n",
    "#dev = qml.device(\"default.qubit\", wires=n_qubits)\n",
    "\n",
    "if use_cuda is True:\n",
    "    dev = qml.device(\"lightning.gpu\", wires=n_qubits)\n",
    "else:\n",
    "    dev = qml.device(\"default.qubit\", wires=n_qubits)\n",
    "print('dev: ',dev)\n",
    "@qml.qnode(dev)\n",
    "def qnode(inputs, weights):\n",
    "    qml.AngleEmbedding(inputs, wires=range(n_qubits))\n",
    "    qml.BasicEntanglerLayers(weights, wires=range(n_qubits))\n",
    "    return [qml.expval(qml.PauliZ(wires=i)) for i in range(n_qubits)]\n",
    "\n",
    "# Define the QLayer\n",
    "n_layers = 3\n",
    "weight_shapes = {\"weights\": (n_layers, n_qubits)}\n",
    "\n",
    "\n",
    "# ==== The model architecture ====\n",
    "class Net(nn.Module):\n",
    "    def __init__(self):\n",
    "        super(Net, self).__init__()\n",
    "        # Convolutional layer 1 with 1 input channels (for greyscale images), 16 output channels, and 5x5 kernel\n",
    "        self.conv1 = nn.Conv2d(1, 16, 5, stride=1, padding=2)\n",
    "        # Batch normalization after convolutional layer 1\n",
    "        self.bn1 = nn.BatchNorm2d(16)\n",
    "        # Max pooling layer with a 2x2 window\n",
    "        self.pool = nn.MaxPool2d(2, 2)\n",
    "        # Convolutional layer 2 with 16 input channels (from the previous layer), 32 output channels, and 5x5 kernel\n",
    "        self.conv2 = nn.Conv2d(16, 32, 5, stride=1, padding=2)\n",
    "        # Batch normalization after convolutional layer 2\n",
    "        self.bn2 = nn.BatchNorm2d(32)\n",
    "        # Quantum layer\n",
    "        self.qlayer1 = qml.qnn.TorchLayer(qnode, weight_shapes)\n",
    "        self.qlayer2 = qml.qnn.TorchLayer(qnode, weight_shapes)\n",
    "        self.qlayer3 = qml.qnn.TorchLayer(qnode, weight_shapes)\n",
    "        self.qlayer4 = qml.qnn.TorchLayer(qnode, weight_shapes)\n",
    "        # Fully connected layers\n",
    "        self.fc1 = nn.Linear(32 * 7 * 7, 120)\n",
    "        self.fc2 = nn.Linear(120, 20)\n",
    "        self.fc3 = nn.Linear(20, 10)\n",
    "\n",
    "    def forward(self, x):\n",
    "        # Propagate the input through the CNN layers\n",
    "        x = self.pool(F.relu(self.bn1(self.conv1(x))))\n",
    "        x = self.pool(F.relu(self.bn2(self.conv2(x))))\n",
    "        # Flatten the output from the convolutional layers\n",
    "        x = x.view(-1, 32 * 7 * 7)\n",
    "        # Pass the output to the quantum layer\n",
    "        x = F.relu(self.fc1(x))\n",
    "        x = F.relu(self.fc2(x))\n",
    "        x_1, x_2, x_3, x_4 = torch.split(x, 5, dim=1)\n",
    "        x_1 = self.qlayer1(x_1)\n",
    "        x_2 = self.qlayer2(x_2)\n",
    "        x_3 = self.qlayer3(x_3)\n",
    "        x_4 = self.qlayer4(x_4)\n",
    "        x = torch.cat([x_1, x_2, x_3, x_4], axis=1)\n",
    "        x = self.fc3(x)\n",
    "        return x"
   ]
  },
  {
   "cell_type": "code",
   "execution_count": 12,
   "id": "7788b380-febe-4cd7-ad9c-4bd4174bdc7a",
   "metadata": {},
   "outputs": [],
   "source": [
    "# Download and load MNIST dataset\n",
    "\n",
    "train_data = datasets.MNIST(\n",
    "    root = 'data',\n",
    "    train = True,\n",
    "    transform = ToTensor(),\n",
    "    download = True,\n",
    ")\n",
    "test_data = datasets.MNIST(\n",
    "    root = 'data',\n",
    "    train = False,\n",
    "    transform = ToTensor()\n",
    ")"
   ]
  },
  {
   "cell_type": "code",
   "execution_count": 13,
   "id": "03b3553d-1061-4d7f-86c9-7bc4554bef8b",
   "metadata": {},
   "outputs": [],
   "source": [
    "# ==== Federated learning setup ====\n",
    "def train_local(model, train_loader, criterion, optimizer, epochs=1):\n",
    "    model.train()\n",
    "    for _ in range(epochs):\n",
    "        for data, labels in train_loader:\n",
    "            optimizer.zero_grad()\n",
    "            outputs = model(data)\n",
    "            loss = criterion(outputs, labels)\n",
    "            loss.backward()\n",
    "            optimizer.step()\n",
    "    return model.state_dict()\n",
    "\n",
    "def federated_avg(state_dicts):\n",
    "    \"\"\"Average model weights across clients.\"\"\"\n",
    "    avg_dict = copy.deepcopy(state_dicts[0])\n",
    "    for key in avg_dict.keys():\n",
    "        for i in range(1, len(state_dicts)):\n",
    "            avg_dict[key] += state_dicts[i][key]\n",
    "        avg_dict[key] = avg_dict[key] / len(state_dicts)\n",
    "    return avg_dict"
   ]
  },
  {
   "cell_type": "code",
   "execution_count": 14,
   "id": "ce35345c-f479-49a4-819e-a281cc51ae40",
   "metadata": {},
   "outputs": [],
   "source": [
    "# ==== Dataset split for multiple clients ====\n",
    "num_clients = 3\n",
    "client_loaders = []\n",
    "\n",
    "dataset = train_data  # Your dataset here\n",
    "client_size = len(dataset) // num_clients\n",
    "client_sets = random_split(dataset, [client_size] * num_clients)\n",
    "\n",
    "for c in range(num_clients):\n",
    "    loader = DataLoader(client_sets[c], batch_size=4, shuffle=True)\n",
    "    client_loaders.append(loader)"
   ]
  },
  {
   "cell_type": "code",
   "execution_count": 15,
   "id": "7048ff19-02f3-4baf-a249-1c5bd45608b1",
   "metadata": {},
   "outputs": [
    {
     "name": "stdout",
     "output_type": "stream",
     "text": [
      "--- Round 1 ---\n",
      "--- Round 2 ---\n"
     ]
    }
   ],
   "source": [
    "# ==== Federated loop ====\n",
    "global_model = Net()\n",
    "criterion = nn.CrossEntropyLoss()\n",
    "\n",
    "num_rounds = 2\n",
    "local_epochs = 2\n",
    "for round_idx in range(num_rounds):\n",
    "    print(f\"--- Round {round_idx+1} ---\")\n",
    "    local_states = []\n",
    "\n",
    "    for c in range(num_clients):\n",
    "        local_model = copy.deepcopy(global_model)\n",
    "        optimizer = torch.optim.SGD(local_model.parameters(), lr=0.001, momentum=0.9)\n",
    "        state_dict = train_local(local_model, client_loaders[c], criterion, optimizer, epochs=local_epochs)\n",
    "        local_states.append(state_dict)\n",
    "\n",
    "    # Aggregate weights\n",
    "    global_state = federated_avg(local_states)\n",
    "    global_model.load_state_dict(global_state)"
   ]
  },
  {
   "cell_type": "code",
   "execution_count": 16,
   "id": "37b7a5d9-f0b3-4317-9ad2-5ef9c30656af",
   "metadata": {},
   "outputs": [
    {
     "name": "stdout",
     "output_type": "stream",
     "text": [
      "Global Model Accuracy: 98.99%\n"
     ]
    }
   ],
   "source": [
    "\n",
    "# ==== Evaluation ====\n",
    "val_loader = DataLoader(test_data, batch_size=4, shuffle=False)\n",
    "correct = 0\n",
    "total = 0\n",
    "global_model.eval()\n",
    "with torch.no_grad():\n",
    "    for images, labels in val_loader:\n",
    "        outputs = global_model(images)\n",
    "        _, predicted = torch.max(outputs, 1)\n",
    "        total += labels.size(0)\n",
    "        correct += (predicted == labels).sum().item()\n",
    "\n",
    "print(f'Global Model Accuracy: {100 * correct / total:.2f}%')\n"
   ]
  },
  {
   "cell_type": "code",
   "execution_count": 17,
   "id": "db50314d-d7e1-415c-abb1-019299afe58b",
   "metadata": {},
   "outputs": [
    {
     "name": "stdout",
     "output_type": "stream",
     "text": [
      "None\n"
     ]
    }
   ],
   "source": []
  },
  {
   "cell_type": "code",
   "execution_count": null,
   "id": "99707093-e766-4049-9e80-0e502b60b0df",
   "metadata": {},
   "outputs": [],
   "source": []
  }
 ],
 "metadata": {
  "kernelspec": {
   "display_name": "Python 3 (ipykernel)",
   "language": "python",
   "name": "python3"
  },
  "language_info": {
   "codemirror_mode": {
    "name": "ipython",
    "version": 3
   },
   "file_extension": ".py",
   "mimetype": "text/x-python",
   "name": "python",
   "nbconvert_exporter": "python",
   "pygments_lexer": "ipython3",
   "version": "3.11.13"
  }
 },
 "nbformat": 4,
 "nbformat_minor": 5
}
